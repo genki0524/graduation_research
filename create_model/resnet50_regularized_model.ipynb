{
  "cells": [
    {
      "cell_type": "code",
      "execution_count": 4,
      "metadata": {
        "colab": {
          "base_uri": "https://localhost:8080/"
        },
        "id": "azNaNwAxyYKR",
        "outputId": "63d0f5b6-5e30-48b6-8d8a-7f2614e94d29"
      },
      "outputs": [
        {
          "name": "stderr",
          "output_type": "stream",
          "text": [
            "/Users/genki/.local/share/virtualenvs/create_model-mKn3cYmg/lib/python3.11/site-packages/torchvision/models/_utils.py:208: UserWarning: The parameter 'pretrained' is deprecated since 0.13 and may be removed in the future, please use 'weights' instead.\n",
            "  warnings.warn(\n",
            "/Users/genki/.local/share/virtualenvs/create_model-mKn3cYmg/lib/python3.11/site-packages/torchvision/models/_utils.py:223: UserWarning: Arguments other than a weight enum or `None` for 'weights' are deprecated since 0.13 and may be removed in the future. The current behavior is equivalent to passing `weights=ResNet50_Weights.IMAGENET1K_V1`. You can also use `weights=ResNet50_Weights.DEFAULT` to get the most up-to-date weights.\n",
            "  warnings.warn(msg)\n",
            "Downloading: \"https://download.pytorch.org/models/resnet50-0676ba61.pth\" to /Users/genki/.cache/torch/hub/checkpoints/resnet50-0676ba61.pth\n",
            "100.0%\n"
          ]
        }
      ],
      "source": [
        "from torchvision import *\n",
        "import torch\n",
        "from torch import nn\n",
        "import numpy as np\n",
        "import matplotlib.pyplot as plt\n",
        "import torch\n",
        "import torch.nn as nn\n",
        "import torch.optim as optim\n",
        "import torch.nn.functional as F\n",
        "import os\n",
        "import time\n",
        "import copy\n",
        "from IPython.display import display\n",
        "from splitResNet50 import SplitResNet50\n",
        "use_cuda = torch.cuda.is_available()\n",
        "device = torch.device(\"cuda\" if use_cuda else \"cpu\")\n",
        "\n",
        "model = models.resnet50(pretrained=True)\n",
        "num_ftrs = model.fc.in_features\n",
        "model.fc = nn.Linear(num_ftrs,5)\n",
        "model = model.to(device)\n",
        "\n",
        "splited_model = SplitResNet50(model)"
      ]
    },
    {
      "cell_type": "code",
      "execution_count": null,
      "metadata": {
        "id": "aM08v3FEsP96"
      },
      "outputs": [],
      "source": [
        "from crossEntropyOSLoss import CrossEntropyOSLoss\n",
        "from model_trainer import ModelTrainer\n",
        "from torch.optim import lr_scheduler\n",
        "\n",
        "optimizer_ft = optim.SGD(splited_model.parameters(),lr=0.001,momentum=0.9)\n",
        "\n",
        "exp_lr_scheduler = lr_scheduler.StepLR(optimizer_ft, step_size=7, gamma=0.1)\n",
        "\n",
        "alpha = 0.01\n",
        "loss_function = CrossEntropyOSLoss(alpha,device)\n",
        "\n",
        "model_trainer = ModelTrainer(model,loss_function,optimizer_ft,exp_lr_scheduler,device)"
      ]
    },
    {
      "cell_type": "code",
      "execution_count": null,
      "metadata": {},
      "outputs": [],
      "source": [
        "import visual_utils\n",
        "\n",
        "data_transforms = {\n",
        "    \"train\":transforms.Compose([\n",
        "        transforms.ColorJitter(brightness=0.2, contrast=0.2, saturation=0.2, hue=0.1),\n",
        "        transforms.RandomAffine(degrees=0, translate=(0.1, 0.1)),\n",
        "        transforms.ToTensor(),\n",
        "        transforms.Normalize([0.485,0.456,0.406],[0.229,0.224,0.225])\n",
        "    ]),\n",
        "    \"test\":transforms.Compose([\n",
        "        transforms.ToTensor(),\n",
        "        transforms.Normalize([0.485,0.456,0.406],[0.229,0.224,0.225])\n",
        "    ]),\n",
        "}\n",
        "\n",
        "data_path = \"\"\n",
        "\n",
        "model_trainer.make_dataloader(transformars=data_transforms,data_path=data_path,batch_size=16,shuffle=True,num_workers=1)\n",
        "\n",
        "inputs,classes = next(iter(model_trainer.get_data_loader()[\"train\"]))\n",
        "\n",
        "out = utils.make_grid(inputs)\n",
        "\n",
        "visual_utils.imshow(out,title=[model_trainer.get_class_names[x] for x in classes])\n",
        "\n",
        "model_ft = model_trainer.train_model(num_epochs=10)\n",
        "\n",
        "visual_utils.visualize_model(model_ft)\n",
        "\n",
        "pth_save_dir : str = \"\"\n",
        "onnx_save_dir : str = \"\"\n",
        "\n",
        "model_trainer.save_model(pth_save_path=pth_save_dir,onnx_save_path=onnx_save_dir)\n"
      ]
    }
  ],
  "metadata": {
    "accelerator": "GPU",
    "colab": {
      "gpuType": "T4",
      "provenance": []
    },
    "kernelspec": {
      "display_name": "create_model-mKn3cYmg",
      "language": "python",
      "name": "python3"
    },
    "language_info": {
      "codemirror_mode": {
        "name": "ipython",
        "version": 3
      },
      "file_extension": ".py",
      "mimetype": "text/x-python",
      "name": "python",
      "nbconvert_exporter": "python",
      "pygments_lexer": "ipython3",
      "version": "3.11.11"
    }
  },
  "nbformat": 4,
  "nbformat_minor": 0
}
